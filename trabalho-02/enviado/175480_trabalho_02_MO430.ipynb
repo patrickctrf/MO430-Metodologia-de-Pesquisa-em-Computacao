{
  "nbformat": 4,
  "nbformat_minor": 0,
  "metadata": {
    "colab": {
      "name": "175480_trabalho_02_MO430.ipynb",
      "provenance": [],
      "collapsed_sections": []
    },
    "kernelspec": {
      "name": "ir",
      "display_name": "R"
    }
  },
  "cells": [
    {
      "cell_type": "markdown",
      "metadata": {
        "id": "poqdzxiDXc00",
        "colab_type": "text"
      },
      "source": [
        "# Trabalho 2 - MO430\n",
        "## Patrick de Carvalho Tavares Rezende Ferreira - 175480\n",
        "\n",
        "Abaixo fazemos a leitura dos arquivos de amostras fornecidos, a1 e b1."
      ]
    },
    {
      "cell_type": "code",
      "metadata": {
        "id": "Js_J_FOTX5T1",
        "colab_type": "code",
        "colab": {}
      },
      "source": [
        "# Fixando a semente para termos números aleatórios capazes de serem reproduzidos.\n",
        "set.seed(1234)\n",
        "\n",
        "a1=read.csv(file.path(\"/content/a1.csv\"), header = FALSE)\n",
        "a1=as.numeric(unlist(a1))\n",
        "\n",
        "b1=read.csv(file.path(\"/content/b1.csv\"), header = FALSE)\n",
        "b1=as.numeric(unlist(b1))"
      ],
      "execution_count": 0,
      "outputs": []
    },
    {
      "cell_type": "markdown",
      "metadata": {
        "id": "uCYbVh_q9A5Z",
        "colab_type": "text"
      },
      "source": [
        "### 1 - Intervalo de confiança\n",
        "\n",
        "Abaixo utilizamos 3 testes para computar o intervalo de confiança da média do conjunto de valores a1 com 95% de confiança.\n",
        "\n",
        "O primeiro teste utilizado é o \"One Sample t-test\", que usa um modelo paramétrico para estimar o intervalo de confiança (IC). O IC obtido é de [5.201134, 10.788916], com média de 7.995025. Dado o fato deste modelo fazer suposições acerca da origem dos dados (gaussiana), seu intervalo para o mesmo valor de confiaça é mais restrito que o teste de Wilcoxon, o que é desejável.\n",
        "\n",
        "O segundo teste utilizado é o \"Wilcoxon signed rank test\", que usa um modelo não paramétrico para estimar o intervalo de confiança (IC). O IC obtido é de [4.887626, 11.054597], com pseudomediana de 7.98446. Dado o fato deste modelo não fazer suposições acerca da origem dos dados, seu intervalo para o mesmo valor de confiaça é mais amplo que o teste t, o que é não desejável mas ajuda em caso de não sabermos a natureza de origem dos dados.\n",
        "\n",
        "O terceiro caso é a aplicação do bootstrap, uma técnica genérica baseada em amostragem (do conjunto de dados) para testes estatísticos e geração de intervalos de confiança. O IC obtido para 5000 repetições (bootstraps) em 95% de confiança BCa foi de [5.285, 10.334], sendo ainda mais restrito do que o próprio teste t.\n",
        "\n",
        "Vale ressaltar que, nestas 3 aplicações de testes estatísticos, o que estamos calculando é a faixa de valores onde, com 95% de confiança, podemos encontrar a verdadeira média da fonte de dados que originou o dado conjunto de amostras. É por isso que não precisamos comparar mais de um conjunto de dados com outro, pois não estamos fazendo uma comparação entre eles."
      ]
    },
    {
      "cell_type": "code",
      "metadata": {
        "id": "bzUkNQKIbSCs",
        "colab_type": "code",
        "outputId": "71a63e30-ab73-4452-d1f4-83e860a75023",
        "colab": {
          "base_uri": "https://localhost:8080/",
          "height": 737
        }
      },
      "source": [
        "set.seed(1234)\n",
        "t.test(a1)\n",
        "\n",
        "# Line separator\n",
        "cat(\"\\n\\n------------------------------------------------------\\n\\n\")\n",
        "\n",
        "set.seed(1234)\n",
        "wilcox.test(a1, conf.int = TRUE)\n",
        "\n",
        "# Line separator\n",
        "cat(\"\\n\\n------------------------------------------------------\\n\\n\")\n",
        "\n",
        "\n",
        "# Montando o calculo do bootstrap\n",
        "library(boot)\n",
        "data=read.csv(file.path(\"/content/a1.csv\"), header = FALSE)\n",
        "data = data$V1\n",
        "foo <- function(data, indices){\n",
        "  dt<-data[indices]\n",
        "  c(\n",
        "    mean(dt)\n",
        "  )\n",
        "}\n",
        "set.seed(1234)\n",
        "myBootstrap <- boot(data, foo, R=5000)\n",
        "boot.ci(myBootstrap, index=1, type='bca')\n",
        "\n",
        "# dim(iris)"
      ],
      "execution_count": 18,
      "outputs": [
        {
          "output_type": "display_data",
          "data": {
            "text/plain": [
              "\n",
              "\tOne Sample t-test\n",
              "\n",
              "data:  a1\n",
              "t = 6.1375, df = 14, p-value = 2.573e-05\n",
              "alternative hypothesis: true mean is not equal to 0\n",
              "95 percent confidence interval:\n",
              "  5.201134 10.788916\n",
              "sample estimates:\n",
              "mean of x \n",
              " 7.995025 \n"
            ]
          },
          "metadata": {
            "tags": []
          }
        },
        {
          "output_type": "stream",
          "text": [
            "\n",
            "\n",
            "------------------------------------------------------\n",
            "\n"
          ],
          "name": "stdout"
        },
        {
          "output_type": "display_data",
          "data": {
            "text/plain": [
              "\n",
              "\tWilcoxon signed rank test\n",
              "\n",
              "data:  a1\n",
              "V = 120, p-value = 6.104e-05\n",
              "alternative hypothesis: true location is not equal to 0\n",
              "95 percent confidence interval:\n",
              "  4.887626 11.054597\n",
              "sample estimates:\n",
              "(pseudo)median \n",
              "       7.98446 \n"
            ]
          },
          "metadata": {
            "tags": []
          }
        },
        {
          "output_type": "stream",
          "text": [
            "\n",
            "\n",
            "------------------------------------------------------\n",
            "\n"
          ],
          "name": "stdout"
        },
        {
          "output_type": "display_data",
          "data": {
            "text/plain": [
              "BOOTSTRAP CONFIDENCE INTERVAL CALCULATIONS\n",
              "Based on 5000 bootstrap replicates\n",
              "\n",
              "CALL : \n",
              "boot.ci(boot.out = myBootstrap, type = \"bca\", index = 1)\n",
              "\n",
              "Intervals : \n",
              "Level       BCa          \n",
              "95%   ( 5.285, 10.334 )  \n",
              "Calculations and Intervals on Original Scale"
            ]
          },
          "metadata": {
            "tags": []
          }
        }
      ]
    },
    {
      "cell_type": "markdown",
      "metadata": {
        "id": "e5Ss03atBSt8",
        "colab_type": "text"
      },
      "source": [
        "### 2 - Intervalo de confiança para o tamanho de efeito\n",
        "\n",
        "Abaixo computamos o tamanho de efeito Cohen D - pooled standard variation para os conjuntos a1 e b1. A estimativa média obtida para o tamanho de efeito é de 0.7400369, e o intervalo de confiança para esta é [0.0221951, 1.4578786]."
      ]
    },
    {
      "cell_type": "code",
      "metadata": {
        "id": "aEAHREhKTJc5",
        "colab_type": "code",
        "outputId": "193ba028-c198-4dac-e7a5-d6f91ea7df52",
        "colab": {
          "base_uri": "https://localhost:8080/",
          "height": 323
        }
      },
      "source": [
        "# std_a1 = sd(a1)\n",
        "# std_b1 = sd(b1)\n",
        "\n",
        "# mean_a1 = mean(a1)\n",
        "# mean_b1 = mean(b1)\n",
        "\n",
        "# SDpooled = sqrt((std_a1^2 + std_b1^2)/2)\n",
        "\n",
        "# cohen_D = (mean_a1 - mean_b1)/SDpooled\n",
        "\n",
        "# print(cohen_D)\n",
        "\n",
        "install.packages(\"devtools\")  ## if not already installed\n",
        "devtools::install_github(\"mtorchiano/effsize\")\n",
        "\n",
        "library(effsize)\n",
        "\n",
        "# Line separator\n",
        "cat(\"\\n\\n------------------------------------------------------\\n\\n\")\n",
        "\n",
        "set.seed(1234)\n",
        "cohen.d(a1,b1, pooled = TRUE)"
      ],
      "execution_count": 19,
      "outputs": [
        {
          "output_type": "stream",
          "text": [
            "Installing package into ‘/usr/local/lib/R/site-library’\n",
            "(as ‘lib’ is unspecified)\n",
            "\n",
            "Skipping install of 'effsize' from a github remote, the SHA1 (ae471a68) has not changed since last install.\n",
            "  Use `force = TRUE` to force installation\n",
            "\n"
          ],
          "name": "stderr"
        },
        {
          "output_type": "stream",
          "text": [
            "\n",
            "\n",
            "------------------------------------------------------\n",
            "\n"
          ],
          "name": "stdout"
        },
        {
          "output_type": "display_data",
          "data": {
            "text/plain": [
              "\n",
              "Cohen's d\n",
              "\n",
              "d estimate: 0.7400369 (medium)\n",
              "95 percent confidence interval:\n",
              "    lower     upper \n",
              "0.0221951 1.4578786 \n"
            ]
          },
          "metadata": {
            "tags": []
          }
        }
      ]
    },
    {
      "cell_type": "markdown",
      "metadata": {
        "id": "tdHhcju1Ccpu",
        "colab_type": "text"
      },
      "source": [
        "### 3 - Intervalo de confiança para o tamanho de efeito\n",
        "\n",
        "O intervalo de confiança computado para o Cohen D foi de [0.0221951, 1.4578786], com 95% de confiança (default do método por implementação). Este intervalo não contempla o valor zero, o que significa que, com 95% de confiança, podemos dizer que a diferença entre os conjuntos é significativa.\n",
        "\n",
        "Entretanto, a comparação dos conjuntos a1 e b1 através do teste t resultou em um p-valor de 0.05724, acima de 0.05. Isto não significa que os conjuntos sejam de fontes iguais, apenas que o teste t não teve evidência o suficiente para garantir um p-valor menor que este, garde forma a garantir a evidência da diferença entre os conjuntos. \n",
        "\n",
        "Esta diferença entre as interpretações dos resultados destes dois métodos se deve, primeiramente, à diferença das estatístias utilizadas para o cálculo de cada um. Em segundo, o tamanho de efeito chegou bem perto de incluir o zero, o que indicaria a possibilidade dos conjuntos não serem estatísticamente diferentes, enquanto que o p-valor ficou também bem próximo de 0.05, o que indicaria uma provável diferença significativa entre os conjuntos. Ou seja, por uma margem numericamente pequena, os testes apontaram conclusões diferentes, o que indica que o Cohen D provavemente é um teste mais \"forte\" do que o teste t."
      ]
    },
    {
      "cell_type": "code",
      "metadata": {
        "id": "JBel0ysmApMh",
        "colab_type": "code",
        "colab": {
          "base_uri": "https://localhost:8080/",
          "height": 358
        },
        "outputId": "76f2b40f-1271-4684-f53b-fa3ba47c7f62"
      },
      "source": [
        "cat(\"\\n\\nIntervalo de confiança para o Cohen D: \\n\")\n",
        "set.seed(1234)\n",
        "cohen.d(a1,b1, pooled = TRUE)$conf.int\n",
        "\n",
        "# Line separator\n",
        "cat(\"\\n\\n------------------------------------------------------\\n\\n\")\n",
        "\n",
        "set.seed(1234)\n",
        "t.test(a1, b1)"
      ],
      "execution_count": 20,
      "outputs": [
        {
          "output_type": "stream",
          "text": [
            "\n",
            "\n",
            "Intervalo de confiança para o Cohen D: \n"
          ],
          "name": "stdout"
        },
        {
          "output_type": "display_data",
          "data": {
            "text/plain": [
              "    lower     upper \n",
              "0.0221951 1.4578786 "
            ],
            "text/latex": "\\begin{description*}\n\\item[lower] 0.0221950958600975\n\\item[upper] 1.45787862363823\n\\end{description*}\n",
            "text/markdown": "lower\n:   0.0221950958600975upper\n:   1.45787862363823\n\n",
            "text/html": [
              "<style>\n",
              ".dl-inline {width: auto; margin:0; padding: 0}\n",
              ".dl-inline>dt, .dl-inline>dd {float: none; width: auto; display: inline-block}\n",
              ".dl-inline>dt::after {content: \":\\0020\"; padding-right: .5ex}\n",
              ".dl-inline>dt:not(:first-of-type) {padding-left: .5ex}\n",
              "</style><dl class=dl-inline><dt>lower</dt><dd>0.0221950958600975</dd><dt>upper</dt><dd>1.45787862363823</dd></dl>\n"
            ]
          },
          "metadata": {
            "tags": []
          }
        },
        {
          "output_type": "stream",
          "text": [
            "\n",
            "\n",
            "------------------------------------------------------\n",
            "\n"
          ],
          "name": "stdout"
        },
        {
          "output_type": "display_data",
          "data": {
            "text/plain": [
              "\n",
              "\tWelch Two Sample t-test\n",
              "\n",
              "data:  a1 and b1\n",
              "t = 2.0123, df = 20.915, p-value = 0.05724\n",
              "alternative hypothesis: true difference in means is not equal to 0\n",
              "95 percent confidence interval:\n",
              " -0.09871863  5.96056902\n",
              "sample estimates:\n",
              "mean of x mean of y \n",
              " 7.995025  5.064100 \n"
            ]
          },
          "metadata": {
            "tags": []
          }
        }
      ]
    }
  ]
}