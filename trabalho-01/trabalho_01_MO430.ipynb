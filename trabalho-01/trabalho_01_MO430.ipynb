{
  "nbformat": 4,
  "nbformat_minor": 0,
  "metadata": {
    "colab": {
      "name": "trabalho-01-MO430.ipynb",
      "provenance": [],
      "collapsed_sections": []
    },
    "kernelspec": {
      "name": "ir",
      "display_name": "R"
    }
  },
  "cells": [
    {
      "cell_type": "code",
      "metadata": {
        "id": "Js_J_FOTX5T1",
        "colab_type": "code",
        "colab": {
          "base_uri": "https://localhost:8080/",
          "height": 106
        },
        "outputId": "5b4161f5-8e2e-4778-8ec3-11241ebae54d"
      },
      "source": [
        "a1=read.csv(file.path(\"/content/a1.csv\"), header = FALSE)\n",
        "a1=as.numeric(unlist(a1))\n",
        "\n",
        "b1=read.csv(file.path(\"/content/b1.csv\"), header = FALSE)\n",
        "b1=as.numeric(unlist(b1))\n",
        "\n",
        "print(mean(a1))\n",
        "print(a1[1])\n",
        "\n",
        "print(mean(b1))\n",
        "print(b1[1])\n",
        "\n",
        "typeof(a1)"
      ],
      "execution_count": 93,
      "outputs": [
        {
          "output_type": "stream",
          "text": [
            "[1] 7.995025\n",
            "[1] 1.232394\n",
            "[1] 5.0641\n",
            "[1] 1.527507\n"
          ],
          "name": "stdout"
        },
        {
          "output_type": "display_data",
          "data": {
            "text/plain": [
              "[1] \"double\""
            ],
            "text/latex": "'double'",
            "text/markdown": "'double'",
            "text/html": [
              "'double'"
            ]
          },
          "metadata": {
            "tags": []
          }
        }
      ]
    },
    {
      "cell_type": "code",
      "metadata": {
        "id": "Ab9OlamRo-CF",
        "colab_type": "code",
        "colab": {
          "base_uri": "https://localhost:8080/",
          "height": 53
        },
        "outputId": "fa43f9f4-f841-4692-f236-1019c01f99e4"
      },
      "source": [
        "print(paste0(\"Comprimento de a1: \", length(a1)))\n",
        "print(paste0(\"Comprimento de b1: \", length(b1)))"
      ],
      "execution_count": 94,
      "outputs": [
        {
          "output_type": "stream",
          "text": [
            "[1] \"Comprimento de a1: 15\"\n",
            "[1] \"Comprimento de b1: 20\"\n"
          ],
          "name": "stdout"
        }
      ]
    },
    {
      "cell_type": "code",
      "metadata": {
        "id": "QdGNlku5rHYX",
        "colab_type": "code",
        "colab": {
          "base_uri": "https://localhost:8080/",
          "height": 323
        },
        "outputId": "fe1099ed-67e0-4425-e914-cf66e7a57667"
      },
      "source": [
        "t.test(a1, b1)\n",
        "\n",
        "wilcox.test(a1, b1)"
      ],
      "execution_count": 95,
      "outputs": [
        {
          "output_type": "display_data",
          "data": {
            "text/plain": [
              "\n",
              "\tWelch Two Sample t-test\n",
              "\n",
              "data:  a1 and b1\n",
              "t = 2.0123, df = 20.915, p-value = 0.05724\n",
              "alternative hypothesis: true difference in means is not equal to 0\n",
              "95 percent confidence interval:\n",
              " -0.09871863  5.96056902\n",
              "sample estimates:\n",
              "mean of x mean of y \n",
              " 7.995025  5.064100 \n"
            ]
          },
          "metadata": {
            "tags": []
          }
        },
        {
          "output_type": "display_data",
          "data": {
            "text/plain": [
              "\n",
              "\tWilcoxon rank sum test\n",
              "\n",
              "data:  a1 and b1\n",
              "W = 205, p-value = 0.06887\n",
              "alternative hypothesis: true location shift is not equal to 0\n"
            ]
          },
          "metadata": {
            "tags": []
          }
        }
      ]
    },
    {
      "cell_type": "code",
      "metadata": {
        "id": "Yz3UEbxzxMsk",
        "colab_type": "code",
        "colab": {
          "base_uri": "https://localhost:8080/",
          "height": 857
        },
        "outputId": "6b3c0e70-cb67-4daa-cfcc-fcefb59a70fe"
      },
      "source": [
        "hist(a1, breaks=8)\n",
        "hist(b1, breaks=8)"
      ],
      "execution_count": 96,
      "outputs": [
        {
          "output_type": "display_data",
          "data": {
            "image/png": "[encoded data removed]",
            "text/plain": [
              "Plot with title “Histogram of a1”"
            ]
          },
          "metadata": {
            "tags": [],
            "image/png": {
              "width": 420,
              "height": 420
            },
            "text/plain": {
              "width": 420,
              "height": 420
            }
          }
        },
        {
          "output_type": "display_data",
          "data": {
            "image/png": "[encoded data removed]",
            "text/plain": [
              "Plot with title “Histogram of b1”"
            ]
          },
          "metadata": {
            "tags": [],
            "image/png": {
              "width": 420,
              "height": 420
            },
            "text/plain": {
              "width": 420,
              "height": 420
            }
          }
        }
      ]
    },
    {
      "cell_type": "code",
      "metadata": {
        "id": "7u_bFXqbBBrq",
        "colab_type": "code",
        "colab": {}
      },
      "source": [
        "paired_data=read.csv(file.path(\"/content/paired.csv\"), header = FALSE)\n",
        "column1=as.numeric(unlist(paired_data[1]))\n",
        "column2=as.numeric(unlist(paired_data[2]))\n"
      ],
      "execution_count": 0,
      "outputs": []
    },
    {
      "cell_type": "code",
      "metadata": {
        "id": "mKPUGvL1AwLB",
        "colab_type": "code",
        "colab": {
          "base_uri": "https://localhost:8080/",
          "height": 665
        },
        "outputId": "a4ee3fa6-397f-4146-c86a-fa7028449825"
      },
      "source": [
        "t.test(column1, column2, paired = TRUE)\n",
        "\n",
        "wilcox.test(column1, column2, paired = TRUE)\n",
        "\n",
        "t.test(column1, column2, paired = FALSE)\n",
        "\n",
        "wilcox.test(column1, column2, paired = FALSE)"
      ],
      "execution_count": 98,
      "outputs": [
        {
          "output_type": "display_data",
          "data": {
            "text/plain": [
              "\n",
              "\tPaired t-test\n",
              "\n",
              "data:  column1 and column2\n",
              "t = 3.7366, df = 9, p-value = 0.00465\n",
              "alternative hypothesis: true difference in means is not equal to 0\n",
              "95 percent confidence interval:\n",
              " 0.5445317 2.2154683\n",
              "sample estimates:\n",
              "mean of the differences \n",
              "                   1.38 \n"
            ]
          },
          "metadata": {
            "tags": []
          }
        },
        {
          "output_type": "display_data",
          "data": {
            "text/plain": [
              "\n",
              "\tWilcoxon signed rank test\n",
              "\n",
              "data:  column1 and column2\n",
              "V = 52, p-value = 0.009766\n",
              "alternative hypothesis: true location shift is not equal to 0\n"
            ]
          },
          "metadata": {
            "tags": []
          }
        },
        {
          "output_type": "display_data",
          "data": {
            "text/plain": [
              "\n",
              "\tWelch Two Sample t-test\n",
              "\n",
              "data:  column1 and column2\n",
              "t = 1.5582, df = 14.856, p-value = 0.1402\n",
              "alternative hypothesis: true difference in means is not equal to 0\n",
              "95 percent confidence interval:\n",
              " -0.5093412  3.2693412\n",
              "sample estimates:\n",
              "mean of x mean of y \n",
              "    14.48     13.10 \n"
            ]
          },
          "metadata": {
            "tags": []
          }
        },
        {
          "output_type": "stream",
          "text": [
            "Warning message in wilcox.test.default(column1, column2, paired = FALSE):\n",
            "“cannot compute exact p-value with ties”\n"
          ],
          "name": "stderr"
        },
        {
          "output_type": "display_data",
          "data": {
            "text/plain": [
              "\n",
              "\tWilcoxon rank sum test with continuity correction\n",
              "\n",
              "data:  column1 and column2\n",
              "W = 67.5, p-value = 0.1984\n",
              "alternative hypothesis: true location shift is not equal to 0\n"
            ]
          },
          "metadata": {
            "tags": []
          }
        }
      ]
    },
    {
      "cell_type": "code",
      "metadata": {
        "id": "-QsxHLP5NCNg",
        "colab_type": "code",
        "colab": {
          "base_uri": "https://localhost:8080/",
          "height": 35
        },
        "outputId": "76e1a939-248b-4e80-82f0-975a96578238"
      },
      "source": [
        "# 15 valores, media 10 e desvpad 5\n",
        "a1 = rnorm(15, 10, 5)\n",
        "\n",
        "# 15 valores, media 13 e desvpad 5\n",
        "b1 = rnorm(15, 13, 5)\n",
        "\n",
        "# Variavel usada para somar o p-valores antes de fazer a media\n",
        "soma_p_value = 0\n",
        "# Range de tamamho desejado para determinar o numero de iteracoes a realizar\n",
        "seq_range = seq(from=1, to=50, by=1)\n",
        "for (i in seq_range){\n",
        "    soma_p_value = soma_p_value + t.test(a1, b1)$p.value\n",
        "}\n",
        "\n",
        "# A media dos p_valores\n",
        "print(soma_p_value / length(seq_range))"
      ],
      "execution_count": 99,
      "outputs": [
        {
          "output_type": "stream",
          "text": [
            "[1] 0.06596004\n"
          ],
          "name": "stdout"
        }
      ]
    },
    {
      "cell_type": "code",
      "metadata": {
        "id": "IgXT5oULSK8-",
        "colab_type": "code",
        "colab": {
          "base_uri": "https://localhost:8080/",
          "height": 35
        },
        "outputId": "b7fe0a06-9894-43f2-c778-9fa4912f9e2d"
      },
      "source": [
        "# 15 valores, media 10 e desvpad 5\n",
        "a1 = rnorm(25, 10, 5)\n",
        "\n",
        "# 15 valores, media 13 e desvpad 5\n",
        "b1 = rnorm(25, 13, 5)\n",
        "\n",
        "# Variavel usada para somar o p-valores antes de fazer a media\n",
        "soma_p_value = 0\n",
        "# Range de tamamho desejado para determinar o numero de iteracoes a realizar\n",
        "seq_range = seq(from=1, to=50, by=1)\n",
        "for (i in seq_range){\n",
        "    soma_p_value = soma_p_value + t.test(a1, b1)$p.value\n",
        "}\n",
        "\n",
        "# A media dos p_valores\n",
        "print(soma_p_value / length(seq_range))"
      ],
      "execution_count": 100,
      "outputs": [
        {
          "output_type": "stream",
          "text": [
            "[1] 0.0006837436\n"
          ],
          "name": "stdout"
        }
      ]
    },
    {
      "cell_type": "code",
      "metadata": {
        "id": "aATSAmxJSUOb",
        "colab_type": "code",
        "colab": {
          "base_uri": "https://localhost:8080/",
          "height": 35
        },
        "outputId": "cb6b09a0-4dc5-4481-9102-2ba2b9ed7359"
      },
      "source": [
        "# 15 valores, media 10 e desvpad 5\n",
        "a1 = rnorm(15, 10, 10)\n",
        "\n",
        "# 15 valores, media 13 e desvpad 5\n",
        "b1 = rnorm(15, 13, 10)\n",
        "\n",
        "# Variavel usada para somar o p-valores antes de fazer a media\n",
        "soma_p_value = 0\n",
        "# Range de tamamho desejado para determinar o numero de iteracoes a realizar\n",
        "seq_range = seq(from=1, to=50, by=1)\n",
        "for (i in seq_range){\n",
        "    soma_p_value = soma_p_value + t.test(a1, b1)$p.value\n",
        "}\n",
        "\n",
        "# A media dos p_valores\n",
        "print(soma_p_value / length(seq_range))"
      ],
      "execution_count": 101,
      "outputs": [
        {
          "output_type": "stream",
          "text": [
            "[1] 0.02878409\n"
          ],
          "name": "stdout"
        }
      ]
    },
    {
      "cell_type": "code",
      "metadata": {
        "id": "hLjEIwlgSbr0",
        "colab_type": "code",
        "colab": {
          "base_uri": "https://localhost:8080/",
          "height": 35
        },
        "outputId": "9fa93548-2734-4d53-d8cf-2f63aee5a976"
      },
      "source": [
        "# 15 valores, media 10 e desvpad 5\n",
        "a1 = rnorm(15, 10, 5)\n",
        "\n",
        "# 15 valores, media 17 e desvpad 5\n",
        "b1 = rnorm(15, 17, 5)\n",
        "\n",
        "# Variavel usada para somar o p-valores antes de fazer a media\n",
        "soma_p_value = 0\n",
        "# Range de tamamho desejado para determinar o numero de iteracoes a realizar\n",
        "seq_range = seq(from=1, to=50, by=1)\n",
        "for (i in seq_range){\n",
        "    soma_p_value = soma_p_value + t.test(a1, b1)$p.value\n",
        "}\n",
        "\n",
        "# A media dos p_valores\n",
        "print(soma_p_value / length(seq_range))"
      ],
      "execution_count": 102,
      "outputs": [
        {
          "output_type": "stream",
          "text": [
            "[1] 8.14491e-06\n"
          ],
          "name": "stdout"
        }
      ]
    },
    {
      "cell_type": "code",
      "metadata": {
        "id": "rhkBGAcRShRQ",
        "colab_type": "code",
        "colab": {}
      },
      "source": [
        ""
      ],
      "execution_count": 0,
      "outputs": []
    }
  ]
}